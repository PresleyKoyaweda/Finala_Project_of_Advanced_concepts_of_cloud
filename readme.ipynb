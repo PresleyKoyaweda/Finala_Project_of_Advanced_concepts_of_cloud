{
 "cells": [
  {
   "cell_type": "markdown",
   "metadata": {},
   "source": [
    "# Distributed SQL Query Routing with AWS EC2\n",
    "\n",
    "This project automates the deployment and configuration of a distributed SQL query routing system using AWS EC2, MySQL, and Flask-based services. It evaluates three routing strategies—**Direct**, **Random**, and **Customized**—to analyze their performance in a distributed workload.\n",
    "\n",
    "---\n",
    "\n",
    "## Table of Contents\n",
    "\n",
    "1. [Introduction](#introduction)\n",
    "2. [Prerequisites](#prerequisites)\n",
    "3. [Setup and Execution](#setup-and-execution)\n",
    "4. [File Structure](#file-structure)\n",
    "5. [Routing Strategies](#routing-strategies)\n",
    "6. [Outputs and Generated Files](#outputs-and-generated-files)\n",
    "7. [Conclusion](#conclusion)\n",
    "\n",
    "---\n",
    "\n",
    "## Introduction\n",
    "\n",
    "As distributed systems and cloud infrastructures become increasingly complex, optimizing SQL query routing is essential for scalability, performance, and reliability. This project introduces and evaluates three routing strategies for SQL queries in a distributed environment deployed on AWS EC2. The system includes:\n",
    "\n",
    "1. **Manager**: Central node managing queries and data replication.\n",
    "2. **Workers**: Nodes handling distributed query execution.\n",
    "3. **Proxy**: Service implementing routing strategies.\n",
    "4. **Gatekeeper and Trusted Host**: Services ensuring security and query validation.\n",
    "\n",
    "The deployment process is fully automated, requiring minimal setup, and all outputs are saved for reproducibility and easy management.\n",
    "\n",
    "---\n",
    "\n",
    "## Prerequisites\n",
    "\n",
    "1. **AWS Account**: Ensure you have access to an AWS account with sufficient permissions for EC2, VPC, and Security Groups.\n",
    "2. **Python 3.8+**: Installed locally.\n",
    "3. **AWS CLI**: Installed and configured.\n",
    "\n",
    "---\n",
    "\n",
    "## Setup and Execution\n",
    "\n",
    "1. Place all project scripts and files in the **same folder**.\n",
    "2. Configure your AWS CLI credentials using:\n",
    "   ```bash\n",
    "   aws configure\n"
   ]
  },
  {
   "cell_type": "markdown",
   "metadata": {},
   "source": [
    "Provide your AWS Access Key ID, Secret Access Key, and the default region. 3. Open your terminal or PowerShell and navigate to the project folder:\n",
    "\n",
    "cd path_to_project_folder\n",
    "\n",
    "Run the main script:\n",
    "\n",
    "python main.py\n"
   ]
  },
  {
   "cell_type": "markdown",
   "metadata": {},
   "source": [
    "### Additional Resources\n",
    "- **Video Demonstration**: [Google Drive Link](https://drive.google.com/drive/folders/19BOBSzUHJkrVucQuqKb2NyIbq0nXT1nl?usp=sharing)  \n",
    "- **GitHub Repository**: [Final Project of Advanced Concepts of Cloud](https://github.com/PresleyKoyaweda/Finala_Project_of_Advanced_concepts_of_cloud)"
   ]
  },
  {
   "cell_type": "markdown",
   "metadata": {},
   "source": []
  }
 ],
 "metadata": {
  "language_info": {
   "name": "python"
  }
 },
 "nbformat": 4,
 "nbformat_minor": 2
}
